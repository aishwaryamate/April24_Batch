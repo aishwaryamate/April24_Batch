{
 "cells": [
  {
   "cell_type": "markdown",
   "id": "bd5dcbd6",
   "metadata": {},
   "source": [
    "# Variables\n",
    "- Variables acts as container space to store any data.\n",
    "- It helps us to assign a memory location to a value which can be called whenever we want that value.\n",
    "- Variables should always start with either letter or _.\n",
    "- Numbers cannot br added at start.\n",
    "- Special characters are not allowed in variables.\n",
    "    - If your variables name contains more than single word, join those words with _.\n",
    "    - Always give name which is meaningful.\n",
    "    - Python is case sensitive."
   ]
  },
  {
   "cell_type": "code",
   "execution_count": 5,
   "id": "e014112d",
   "metadata": {},
   "outputs": [
    {
     "data": {
      "text/plain": [
       "49849864"
      ]
     },
     "execution_count": 5,
     "metadata": {},
     "output_type": "execute_result"
    }
   ],
   "source": [
    "a = 49849864\n",
    "a"
   ]
  },
  {
   "cell_type": "code",
   "execution_count": 9,
   "id": "7caba021",
   "metadata": {},
   "outputs": [
    {
     "data": {
      "text/plain": [
       "345684"
      ]
     },
     "execution_count": 9,
     "metadata": {},
     "output_type": "execute_result"
    }
   ],
   "source": [
    "# 1b = 987981\n",
    "b1 = 345684\n",
    "b1"
   ]
  },
  {
   "cell_type": "code",
   "execution_count": 10,
   "id": "0d460639",
   "metadata": {},
   "outputs": [
    {
     "ename": "SyntaxError",
     "evalue": "invalid syntax (4192317503.py, line 1)",
     "output_type": "error",
     "traceback": [
      "\u001b[1;36m  Cell \u001b[1;32mIn[10], line 1\u001b[1;36m\u001b[0m\n\u001b[1;33m    $xyz = 876\u001b[0m\n\u001b[1;37m    ^\u001b[0m\n\u001b[1;31mSyntaxError\u001b[0m\u001b[1;31m:\u001b[0m invalid syntax\n"
     ]
    }
   ],
   "source": [
    "$xyz = 876"
   ]
  },
  {
   "cell_type": "code",
   "execution_count": 13,
   "id": "39ec0b55",
   "metadata": {},
   "outputs": [],
   "source": [
    "integer = 100\n",
    "continous = 45.2\n",
    "string = 'Python'\n",
    "logical = False"
   ]
  },
  {
   "cell_type": "code",
   "execution_count": 15,
   "id": "5aaff6a2",
   "metadata": {},
   "outputs": [
    {
     "data": {
      "text/plain": [
       "45.2"
      ]
     },
     "execution_count": 15,
     "metadata": {},
     "output_type": "execute_result"
    }
   ],
   "source": [
    "integer\n",
    "continous"
   ]
  },
  {
   "cell_type": "code",
   "execution_count": 16,
   "id": "060128b1",
   "metadata": {},
   "outputs": [
    {
     "name": "stdout",
     "output_type": "stream",
     "text": [
      "100\n",
      "45.2\n",
      "Python\n",
      "False\n"
     ]
    }
   ],
   "source": [
    "print(integer)\n",
    "print(continous)\n",
    "print(string)\n",
    "print(logical)"
   ]
  },
  {
   "cell_type": "code",
   "execution_count": 20,
   "id": "482812f5",
   "metadata": {},
   "outputs": [
    {
     "data": {
      "text/plain": [
       "('Ankush', 'Ankush')"
      ]
     },
     "execution_count": 20,
     "metadata": {},
     "output_type": "execute_result"
    }
   ],
   "source": [
    "# first name = 'Ankush'  #Gives error\n",
    "# first-name = 'Ankush'  \n",
    "firstname = 'Ankush'\n",
    "first_name = 'Ankush'\n",
    "\n",
    "first_name,firstname"
   ]
  },
  {
   "cell_type": "markdown",
   "id": "f7924606",
   "metadata": {},
   "source": [
    "# Data Structures\n",
    "\n",
    "- Data structures act as container/storage space to store multiple values in one variable.\n",
    "- Python has 4 built in data structures.\n",
    "    - They are as follows:\n",
    "        - Lists\n",
    "        - Tuple\n",
    "        - Dictionary\n",
    "        - Sets"
   ]
  },
  {
   "cell_type": "code",
   "execution_count": 26,
   "id": "61b21d91",
   "metadata": {},
   "outputs": [
    {
     "data": {
      "text/plain": [
       "bool"
      ]
     },
     "execution_count": 26,
     "metadata": {},
     "output_type": "execute_result"
    }
   ],
   "source": [
    "a = True\n",
    "type(a)"
   ]
  },
  {
   "cell_type": "code",
   "execution_count": 22,
   "id": "43f106d8",
   "metadata": {},
   "outputs": [
    {
     "data": {
      "text/plain": [
       "list"
      ]
     },
     "execution_count": 22,
     "metadata": {},
     "output_type": "execute_result"
    }
   ],
   "source": [
    "#Lists\n",
    "lst = [10,10.2,'Python class',False]\n",
    "lst\n",
    "type(lst)"
   ]
  },
  {
   "cell_type": "code",
   "execution_count": 28,
   "id": "b20214e8",
   "metadata": {},
   "outputs": [
    {
     "data": {
      "text/plain": [
       "tuple"
      ]
     },
     "execution_count": 28,
     "metadata": {},
     "output_type": "execute_result"
    }
   ],
   "source": [
    "#Tuple\n",
    "\n",
    "t = (14,12,'Python',True,10.2)\n",
    "t\n",
    "type(t)"
   ]
  },
  {
   "cell_type": "code",
   "execution_count": 30,
   "id": "2755b259",
   "metadata": {},
   "outputs": [
    {
     "data": {
      "text/plain": [
       "dict"
      ]
     },
     "execution_count": 30,
     "metadata": {},
     "output_type": "execute_result"
    }
   ],
   "source": [
    "#Dictionary \n",
    "\n",
    "dictionary = {'name':'Anit','age':52,'location':'Mumbai'}\n",
    "dictionary\n",
    "type(dictionary)"
   ]
  },
  {
   "cell_type": "code",
   "execution_count": 37,
   "id": "55a7a0e4",
   "metadata": {},
   "outputs": [
    {
     "data": {
      "text/plain": [
       "{'name': ['ankit', 'suman', 'nikita'],\n",
       " 'age': [21, 23, 25],\n",
       " 'location': ['Mumbai', 'Pune', 'Goa']}"
      ]
     },
     "execution_count": 37,
     "metadata": {},
     "output_type": "execute_result"
    }
   ],
   "source": [
    "dictionary1 = {\n",
    "    'name': ['ankit','suman','nikita'],\n",
    "    'age' : [21,23,25],\n",
    "    'location' : ['Mumbai','Pune','Goa']\n",
    "}\n",
    "\n",
    "dictionary1"
   ]
  },
  {
   "cell_type": "code",
   "execution_count": 36,
   "id": "8a8eb541",
   "metadata": {},
   "outputs": [
    {
     "data": {
      "text/plain": [
       "set"
      ]
     },
     "execution_count": 36,
     "metadata": {},
     "output_type": "execute_result"
    }
   ],
   "source": [
    "a = {1,2,3,4,5,6}\n",
    "type(a)"
   ]
  },
  {
   "cell_type": "code",
   "execution_count": 32,
   "id": "7b24d85a",
   "metadata": {},
   "outputs": [
    {
     "data": {
      "text/plain": [
       "set"
      ]
     },
     "execution_count": 32,
     "metadata": {},
     "output_type": "execute_result"
    }
   ],
   "source": [
    "#Sets\n",
    "\n",
    "set1 = {10,20,133256.2,'Machine'}\n",
    "set1\n",
    "type(set1)"
   ]
  },
  {
   "cell_type": "markdown",
   "id": "eacdc4d1",
   "metadata": {},
   "source": [
    "# List functions"
   ]
  },
  {
   "cell_type": "code",
   "execution_count": 1,
   "id": "cb9c73d5",
   "metadata": {},
   "outputs": [
    {
     "data": {
      "text/plain": [
       "[10, 12, 1.3, 'Python', False]"
      ]
     },
     "execution_count": 1,
     "metadata": {},
     "output_type": "execute_result"
    }
   ],
   "source": [
    "lst = [10,12,1.3,'Python',False]\n",
    "lst"
   ]
  },
  {
   "cell_type": "code",
   "execution_count": 39,
   "id": "3e3968a9",
   "metadata": {},
   "outputs": [
    {
     "data": {
      "text/plain": [
       "'Python'"
      ]
     },
     "execution_count": 39,
     "metadata": {},
     "output_type": "execute_result"
    }
   ],
   "source": [
    "lst[3]"
   ]
  },
  {
   "cell_type": "code",
   "execution_count": 40,
   "id": "219fe2b6",
   "metadata": {},
   "outputs": [
    {
     "data": {
      "text/plain": [
       "False"
      ]
     },
     "execution_count": 40,
     "metadata": {},
     "output_type": "execute_result"
    }
   ],
   "source": [
    "lst[4]"
   ]
  },
  {
   "cell_type": "code",
   "execution_count": 2,
   "id": "d5b74065",
   "metadata": {},
   "outputs": [],
   "source": [
    "#Add\n",
    "lst.append('Machine Learning')"
   ]
  },
  {
   "cell_type": "code",
   "execution_count": 3,
   "id": "46a90ced",
   "metadata": {},
   "outputs": [
    {
     "data": {
      "text/plain": [
       "[10, 12, 1.3, 'Python', False, 'Machine Learning']"
      ]
     },
     "execution_count": 3,
     "metadata": {},
     "output_type": "execute_result"
    }
   ],
   "source": [
    "lst"
   ]
  },
  {
   "cell_type": "code",
   "execution_count": 4,
   "id": "783f155d",
   "metadata": {},
   "outputs": [
    {
     "ename": "TypeError",
     "evalue": "list.append() takes exactly one argument (2 given)",
     "output_type": "error",
     "traceback": [
      "\u001b[1;31m---------------------------------------------------------------------------\u001b[0m",
      "\u001b[1;31mTypeError\u001b[0m                                 Traceback (most recent call last)",
      "Cell \u001b[1;32mIn[4], line 1\u001b[0m\n\u001b[1;32m----> 1\u001b[0m lst\u001b[38;5;241m.\u001b[39mappend(\u001b[38;5;241m41\u001b[39m,\u001b[38;5;241m45\u001b[39m)\n",
      "\u001b[1;31mTypeError\u001b[0m: list.append() takes exactly one argument (2 given)"
     ]
    }
   ],
   "source": [
    "lst.append(41,45)"
   ]
  },
  {
   "cell_type": "code",
   "execution_count": 5,
   "id": "1dea609c",
   "metadata": {},
   "outputs": [
    {
     "data": {
      "text/plain": [
       "[10, 12, 1.3, 'Python', False, 'Machine Learning']"
      ]
     },
     "execution_count": 5,
     "metadata": {},
     "output_type": "execute_result"
    }
   ],
   "source": [
    "lst"
   ]
  },
  {
   "cell_type": "code",
   "execution_count": 6,
   "id": "7bda35c6",
   "metadata": {},
   "outputs": [],
   "source": [
    "lst.insert(2,'Deep learning')"
   ]
  },
  {
   "cell_type": "code",
   "execution_count": 7,
   "id": "88cbe5e8",
   "metadata": {},
   "outputs": [
    {
     "data": {
      "text/plain": [
       "[10, 12, 'Deep learning', 1.3, 'Python', False, 'Machine Learning']"
      ]
     },
     "execution_count": 7,
     "metadata": {},
     "output_type": "execute_result"
    }
   ],
   "source": [
    "lst"
   ]
  },
  {
   "cell_type": "code",
   "execution_count": 9,
   "id": "0f20121d",
   "metadata": {},
   "outputs": [],
   "source": [
    "lst.extend([100,500,'Stats'])"
   ]
  },
  {
   "cell_type": "code",
   "execution_count": 10,
   "id": "a9d8dd44",
   "metadata": {},
   "outputs": [
    {
     "data": {
      "text/plain": [
       "[10,\n",
       " 12,\n",
       " 'Deep learning',\n",
       " 1.3,\n",
       " 'Python',\n",
       " False,\n",
       " 'Machine Learning',\n",
       " 100,\n",
       " 500,\n",
       " 'Stats']"
      ]
     },
     "execution_count": 10,
     "metadata": {},
     "output_type": "execute_result"
    }
   ],
   "source": [
    "lst"
   ]
  },
  {
   "cell_type": "code",
   "execution_count": 11,
   "id": "b531b63f",
   "metadata": {},
   "outputs": [],
   "source": [
    "#Remove"
   ]
  },
  {
   "cell_type": "code",
   "execution_count": 12,
   "id": "92eb0811",
   "metadata": {},
   "outputs": [
    {
     "data": {
      "text/plain": [
       "[10,\n",
       " 12,\n",
       " 'Deep learning',\n",
       " 1.3,\n",
       " 'Python',\n",
       " False,\n",
       " 'Machine Learning',\n",
       " 100,\n",
       " 500,\n",
       " 'Stats']"
      ]
     },
     "execution_count": 12,
     "metadata": {},
     "output_type": "execute_result"
    }
   ],
   "source": [
    "lst"
   ]
  },
  {
   "cell_type": "code",
   "execution_count": 13,
   "id": "2bbeb470",
   "metadata": {},
   "outputs": [
    {
     "data": {
      "text/plain": [
       "'Stats'"
      ]
     },
     "execution_count": 13,
     "metadata": {},
     "output_type": "execute_result"
    }
   ],
   "source": [
    "lst.pop()"
   ]
  },
  {
   "cell_type": "code",
   "execution_count": 14,
   "id": "352574c7",
   "metadata": {},
   "outputs": [
    {
     "data": {
      "text/plain": [
       "[10, 12, 'Deep learning', 1.3, 'Python', False, 'Machine Learning', 100, 500]"
      ]
     },
     "execution_count": 14,
     "metadata": {},
     "output_type": "execute_result"
    }
   ],
   "source": [
    "lst"
   ]
  },
  {
   "cell_type": "code",
   "execution_count": 15,
   "id": "6300c4d0",
   "metadata": {},
   "outputs": [
    {
     "data": {
      "text/plain": [
       "10"
      ]
     },
     "execution_count": 15,
     "metadata": {},
     "output_type": "execute_result"
    }
   ],
   "source": [
    "lst.pop(0)"
   ]
  },
  {
   "cell_type": "code",
   "execution_count": 16,
   "id": "e4a82c12",
   "metadata": {},
   "outputs": [
    {
     "data": {
      "text/plain": [
       "[12, 'Deep learning', 1.3, 'Python', False, 'Machine Learning', 100, 500]"
      ]
     },
     "execution_count": 16,
     "metadata": {},
     "output_type": "execute_result"
    }
   ],
   "source": [
    "lst"
   ]
  },
  {
   "cell_type": "code",
   "execution_count": 17,
   "id": "b9597dd3",
   "metadata": {},
   "outputs": [],
   "source": [
    "lst.remove(1.3)"
   ]
  },
  {
   "cell_type": "code",
   "execution_count": 18,
   "id": "0c8d13a1",
   "metadata": {},
   "outputs": [
    {
     "data": {
      "text/plain": [
       "[12, 'Deep learning', 'Python', False, 'Machine Learning', 100, 500]"
      ]
     },
     "execution_count": 18,
     "metadata": {},
     "output_type": "execute_result"
    }
   ],
   "source": [
    "lst"
   ]
  },
  {
   "cell_type": "code",
   "execution_count": 20,
   "id": "04794695",
   "metadata": {},
   "outputs": [],
   "source": [
    "#Replace"
   ]
  },
  {
   "cell_type": "code",
   "execution_count": 21,
   "id": "72f3f290",
   "metadata": {},
   "outputs": [
    {
     "data": {
      "text/plain": [
       "[12, 'Deep learning', 'Python', False, 'Machine Learning', 100, 500]"
      ]
     },
     "execution_count": 21,
     "metadata": {},
     "output_type": "execute_result"
    }
   ],
   "source": [
    "lst"
   ]
  },
  {
   "cell_type": "code",
   "execution_count": 23,
   "id": "b69dd701",
   "metadata": {},
   "outputs": [],
   "source": [
    "lst[1] = 5000"
   ]
  },
  {
   "cell_type": "code",
   "execution_count": 24,
   "id": "22974487",
   "metadata": {},
   "outputs": [
    {
     "data": {
      "text/plain": [
       "[12, 5000, 'Python', False, 'Machine Learning', 100, 500]"
      ]
     },
     "execution_count": 24,
     "metadata": {},
     "output_type": "execute_result"
    }
   ],
   "source": [
    "lst"
   ]
  },
  {
   "cell_type": "markdown",
   "id": "b140965c",
   "metadata": {},
   "source": [
    "# Conditional Statements\n",
    "\n",
    "- In programming, when we need to get output based on certain conditions, to specify those conditions, we make use of conditional statements.\n",
    "- In python, there are 3 conditional statements are there:\n",
    "    - if\n",
    "    - elif\n",
    "    - else"
   ]
  },
  {
   "cell_type": "code",
   "execution_count": null,
   "id": "ecfddbdc",
   "metadata": {},
   "outputs": [],
   "source": [
    "#if\n",
    "\n",
    "password = 1010\n",
    "\n",
    "if password == 1010:\n",
    "    print('Access given')"
   ]
  },
  {
   "cell_type": "code",
   "execution_count": null,
   "id": "1a8396e5",
   "metadata": {},
   "outputs": [],
   "source": [
    "#else\n",
    "\n",
    "password = 1011\n",
    "\n",
    "if password == 1010:\n",
    "    print('Access given')"
   ]
  },
  {
   "cell_type": "code",
   "execution_count": null,
   "id": "9873c423",
   "metadata": {},
   "outputs": [],
   "source": [
    "password = 101110\n",
    "\n",
    "if password == 1010:\n",
    "    print('Access given')\n",
    "else:\n",
    "    print('Try again')"
   ]
  },
  {
   "cell_type": "code",
   "execution_count": null,
   "id": "9bad48f4",
   "metadata": {},
   "outputs": [],
   "source": [
    "#Elif\n",
    "\n",
    "#age < 5 : ticket price $2\n",
    "#age < 18 : ticket price $7\n",
    "#age < 60 : ticket price $25\n",
    "#age > 60 :ticket price $15\n",
    "\n",
    "age = 2\n",
    "\n",
    "if age < 5:\n",
    "    print('$2')\n",
    "elif age < 18:\n",
    "    print('$7')\n",
    "elif age < 60:\n",
    "    print('$25')\n",
    "else:\n",
    "    print('$15')"
   ]
  },
  {
   "cell_type": "markdown",
   "id": "719d1d62",
   "metadata": {},
   "source": [
    "# For loop\n",
    "\n",
    "- Loops in python are used to do any similar task multiple times."
   ]
  },
  {
   "cell_type": "code",
   "execution_count": null,
   "id": "63993c4d",
   "metadata": {},
   "outputs": [],
   "source": [
    "lst = [1,2,5,6,9,7,4,5,6,55,4,7,8,9,154,4,454]\n",
    "\n",
    "for i in lst:\n",
    "    print(i)"
   ]
  },
  {
   "cell_type": "code",
   "execution_count": null,
   "id": "65191684",
   "metadata": {},
   "outputs": [],
   "source": [
    "for i in lst:\n",
    "    print(i**2)"
   ]
  },
  {
   "cell_type": "code",
   "execution_count": null,
   "id": "d1109c72",
   "metadata": {},
   "outputs": [],
   "source": [
    "company = ['amazon','flipkart','excelr','myntra','samsung','apple']\n",
    "company"
   ]
  },
  {
   "cell_type": "code",
   "execution_count": null,
   "id": "ca673eff",
   "metadata": {},
   "outputs": [],
   "source": [
    "for i in company:\n",
    "    print('www.'+i+'.com')"
   ]
  },
  {
   "cell_type": "markdown",
   "id": "708b3f2a",
   "metadata": {},
   "source": [
    "# Functions\n",
    "\n",
    "- Python supports two types of function:\n",
    "    - Built in\n",
    "    - User defined"
   ]
  },
  {
   "cell_type": "code",
   "execution_count": null,
   "id": "3c6cd0b2",
   "metadata": {},
   "outputs": [],
   "source": [
    "def add():\n",
    "    print(5+357684)\n",
    "    \n",
    "add()"
   ]
  },
  {
   "cell_type": "code",
   "execution_count": null,
   "id": "f9f7e5da",
   "metadata": {},
   "outputs": [],
   "source": [
    "#With arguments\n",
    "\n",
    "def add(num1,num2):\n",
    "    print(num1+num2)"
   ]
  },
  {
   "cell_type": "code",
   "execution_count": null,
   "id": "dc9d611b",
   "metadata": {},
   "outputs": [],
   "source": [
    "add(85,65)"
   ]
  },
  {
   "cell_type": "code",
   "execution_count": null,
   "id": "151315b3",
   "metadata": {},
   "outputs": [],
   "source": [
    "#with format string\n",
    "\n",
    "def info(name, age, location):\n",
    "    print(f\"Name of customer is {name}. Age of customer is {age}. Customer location is {location}\")"
   ]
  },
  {
   "cell_type": "code",
   "execution_count": null,
   "id": "f429fe6f",
   "metadata": {},
   "outputs": [],
   "source": [
    "info('Anit',25,'Pune')"
   ]
  },
  {
   "cell_type": "code",
   "execution_count": null,
   "id": "cc97c57f",
   "metadata": {},
   "outputs": [],
   "source": []
  }
 ],
 "metadata": {
  "kernelspec": {
   "display_name": "Python 3 (ipykernel)",
   "language": "python",
   "name": "python3"
  },
  "language_info": {
   "codemirror_mode": {
    "name": "ipython",
    "version": 3
   },
   "file_extension": ".py",
   "mimetype": "text/x-python",
   "name": "python",
   "nbconvert_exporter": "python",
   "pygments_lexer": "ipython3",
   "version": "3.11.5"
  }
 },
 "nbformat": 4,
 "nbformat_minor": 5
}
